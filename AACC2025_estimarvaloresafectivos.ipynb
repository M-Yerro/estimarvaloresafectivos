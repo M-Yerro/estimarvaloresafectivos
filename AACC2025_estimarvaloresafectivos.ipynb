{
  "cells": [
    {
      "cell_type": "markdown",
      "metadata": {
        "id": "view-in-github",
        "colab_type": "text"
      },
      "source": [
        "<a href=\"https://colab.research.google.com/github/M-Yerro/estimarvaloresafectivos/blob/main/AACC2025_estimarvaloresafectivos.ipynb\" target=\"_parent\"><img src=\"https://colab.research.google.com/assets/colab-badge.svg\" alt=\"Open In Colab\"/></a>"
      ]
    },
    {
      "cell_type": "markdown",
      "source": [
        "Para usar: Ejecutar todas las celdas. La preparación puede demorar unos 20 minutos. Una vez preparado el entorno, la estimación es casi inmediata.\n",
        "\n",
        "Se recomienda ejecutar en Google Colab.\n",
        "\n",
        "Luego, para obtener los valores estimativos de una palabra, utilizar el cuadro encontrado al final de este notebook."
      ],
      "metadata": {
        "id": "ZeNCVV8MPGoR"
      }
    },
    {
      "cell_type": "markdown",
      "source": [
        "# Preparación"
      ],
      "metadata": {
        "id": "NqYF_A5Rbplf"
      }
    },
    {
      "cell_type": "code",
      "execution_count": 1,
      "metadata": {
        "id": "4CIEqnClqL2p",
        "colab": {
          "base_uri": "https://localhost:8080/"
        },
        "outputId": "51e4c064-f1e6-40e8-cbdb-1b4980bceacc"
      },
      "outputs": [
        {
          "output_type": "stream",
          "name": "stdout",
          "text": [
            "Requirement already satisfied: fasttext in /usr/local/lib/python3.12/dist-packages (0.9.3)\n",
            "Requirement already satisfied: pybind11>=2.2 in /usr/local/lib/python3.12/dist-packages (from fasttext) (3.0.1)\n",
            "Requirement already satisfied: setuptools>=0.7.0 in /usr/local/lib/python3.12/dist-packages (from fasttext) (75.2.0)\n",
            "Requirement already satisfied: numpy in /usr/local/lib/python3.12/dist-packages (from fasttext) (2.0.2)\n"
          ]
        }
      ],
      "source": [
        "#  Importamos las librerías necesarias.\n",
        "!pip install fasttext\n",
        "import fasttext.util\n",
        "import pandas as pd\n",
        "import numpy as np\n",
        "import tensorflow as tf\n",
        "import keras"
      ]
    },
    {
      "cell_type": "code",
      "execution_count": 2,
      "metadata": {
        "id": "DvjfYFBF8sR7"
      },
      "outputs": [],
      "source": [
        "#  Descargamos el modelo de lenguaje utilizado\n",
        "#\n",
        "#  Puede tardar hasta 20 minutos :(\n",
        "#\n",
        "fasttext.util.download_model('es', if_exists='ignore')  # Español\n",
        "ft = fasttext.load_model('cc.es.300.bin')"
      ]
    },
    {
      "cell_type": "code",
      "source": [
        "#  Descargamos los estimadores ya entrenados\n",
        "\n",
        "valencia_url = \"https://github.com/M-Yerro/estimarvaloresafectivos/raw/refs/heads/main/modelovalencia.h5\"\n",
        "arousal_url = \"https://github.com/M-Yerro/estimarvaloresafectivos/raw/refs/heads/main/modeloarousal.h5\"\n",
        "\n",
        "valencia_path = tf.keras.utils.get_file(\"modelovalencia.h5\", valencia_url)\n",
        "arousal_path = tf.keras.utils.get_file(\"modeloarousal.h5\", arousal_url)\n",
        "\n",
        "valencia = keras.models.load_model(valencia_path)\n",
        "arousal = keras.models.load_model(arousal_path)"
      ],
      "metadata": {
        "colab": {
          "base_uri": "https://localhost:8080/"
        },
        "id": "nMzkuVJJMWFw",
        "outputId": "dbed953f-c5be-4779-b539-5e193c49c6ab"
      },
      "execution_count": 3,
      "outputs": [
        {
          "output_type": "stream",
          "name": "stderr",
          "text": [
            "WARNING:absl:Compiled the loaded model, but the compiled metrics have yet to be built. `model.compile_metrics` will be empty until you train or evaluate the model.\n",
            "WARNING:absl:Compiled the loaded model, but the compiled metrics have yet to be built. `model.compile_metrics` will be empty until you train or evaluate the model.\n"
          ]
        }
      ]
    },
    {
      "cell_type": "code",
      "source": [
        "def estimar(word, model_valence=valencia, model_arousal=arousal):\n",
        "  Valencia = valencia.predict(ft.get_word_vector(word).reshape(1, -1))\n",
        "  Activacion = arousal.predict(ft.get_word_vector(word).reshape(1, -1))\n",
        "  print(f\"Palabra: {word}\")\n",
        "  print(f\"Valencia: {Valencia[0][0]}\")\n",
        "  print(f\"Activacion: {Activacion[0][0]}\")"
      ],
      "metadata": {
        "id": "2MrbMQRcNN4B"
      },
      "execution_count": 4,
      "outputs": []
    },
    {
      "cell_type": "code",
      "source": [
        "import ipywidgets as widgets\n",
        "from IPython.display import display\n",
        "\n",
        "text_input = widgets.Text(\n",
        "    value='',\n",
        "    placeholder='escribir palabra a estimar',\n",
        "    description='Palabra:',\n",
        "    disabled=False\n",
        ")\n",
        "\n",
        "def handle_submit(sender):\n",
        "    estimar(text_input.value)\n",
        "\n",
        "text_input.on_submit(handle_submit)\n"
      ],
      "metadata": {
        "id": "bFc0PLjlboMg"
      },
      "execution_count": 5,
      "outputs": []
    },
    {
      "cell_type": "code",
      "source": [
        "estimar(\"ganar\")"
      ],
      "metadata": {
        "colab": {
          "base_uri": "https://localhost:8080/"
        },
        "id": "Sn_5Gt6-NfOA",
        "outputId": "2d59ea72-d3e6-4b8f-ef81-92198723d420"
      },
      "execution_count": 6,
      "outputs": [
        {
          "output_type": "stream",
          "name": "stdout",
          "text": [
            "\u001b[1m1/1\u001b[0m \u001b[32m━━━━━━━━━━━━━━━━━━━━\u001b[0m\u001b[37m\u001b[0m \u001b[1m0s\u001b[0m 223ms/step\n",
            "\u001b[1m1/1\u001b[0m \u001b[32m━━━━━━━━━━━━━━━━━━━━\u001b[0m\u001b[37m\u001b[0m \u001b[1m0s\u001b[0m 62ms/step\n",
            "Palabra: ganar\n",
            "Valencia: 7.535353660583496\n",
            "Activacion: 7.396597385406494\n"
          ]
        }
      ]
    },
    {
      "cell_type": "markdown",
      "source": [
        "# Estimar valores afectivos"
      ],
      "metadata": {
        "id": "AeE4_VwkbyEI"
      }
    },
    {
      "cell_type": "code",
      "source": [
        "display(text_input)"
      ],
      "metadata": {
        "colab": {
          "base_uri": "https://localhost:8080/",
          "height": 136,
          "referenced_widgets": [
            "8234ad5f882142769f9267248025b0c0",
            "da9540b348e74170b985c73c5c5a5f7c",
            "0b42cb53c2fd4e568993503ec435695f"
          ]
        },
        "id": "VfxwXSahavCg",
        "outputId": "725ebd32-82d5-43db-8d64-b9d72dac9c77"
      },
      "execution_count": 7,
      "outputs": [
        {
          "output_type": "display_data",
          "data": {
            "text/plain": [
              "Text(value='', description='Palabra:', placeholder='escribir palabra a estimar')"
            ],
            "application/vnd.jupyter.widget-view+json": {
              "version_major": 2,
              "version_minor": 0,
              "model_id": "8234ad5f882142769f9267248025b0c0"
            }
          },
          "metadata": {}
        },
        {
          "output_type": "stream",
          "name": "stdout",
          "text": [
            "\u001b[1m1/1\u001b[0m \u001b[32m━━━━━━━━━━━━━━━━━━━━\u001b[0m\u001b[37m\u001b[0m \u001b[1m0s\u001b[0m 50ms/step\n",
            "\u001b[1m1/1\u001b[0m \u001b[32m━━━━━━━━━━━━━━━━━━━━\u001b[0m\u001b[37m\u001b[0m \u001b[1m0s\u001b[0m 43ms/step\n",
            "Palabra: ganar\n",
            "Valencia: 7.535353660583496\n",
            "Activacion: 7.396597385406494\n"
          ]
        }
      ]
    }
  ],
  "metadata": {
    "colab": {
      "provenance": [],
      "authorship_tag": "ABX9TyMdbXXzpint4HblxyGeA2xf",
      "include_colab_link": true
    },
    "kernelspec": {
      "display_name": "Python 3",
      "name": "python3"
    },
    "language_info": {
      "name": "python"
    },
    "widgets": {
      "application/vnd.jupyter.widget-state+json": {
        "8234ad5f882142769f9267248025b0c0": {
          "model_module": "@jupyter-widgets/controls",
          "model_name": "TextModel",
          "model_module_version": "1.5.0",
          "state": {
            "_dom_classes": [],
            "_model_module": "@jupyter-widgets/controls",
            "_model_module_version": "1.5.0",
            "_model_name": "TextModel",
            "_view_count": null,
            "_view_module": "@jupyter-widgets/controls",
            "_view_module_version": "1.5.0",
            "_view_name": "TextView",
            "continuous_update": true,
            "description": "Palabra:",
            "description_tooltip": null,
            "disabled": false,
            "layout": "IPY_MODEL_da9540b348e74170b985c73c5c5a5f7c",
            "placeholder": "escribir palabra a estimar",
            "style": "IPY_MODEL_0b42cb53c2fd4e568993503ec435695f",
            "value": "ganar"
          }
        },
        "da9540b348e74170b985c73c5c5a5f7c": {
          "model_module": "@jupyter-widgets/base",
          "model_name": "LayoutModel",
          "model_module_version": "1.2.0",
          "state": {
            "_model_module": "@jupyter-widgets/base",
            "_model_module_version": "1.2.0",
            "_model_name": "LayoutModel",
            "_view_count": null,
            "_view_module": "@jupyter-widgets/base",
            "_view_module_version": "1.2.0",
            "_view_name": "LayoutView",
            "align_content": null,
            "align_items": null,
            "align_self": null,
            "border": null,
            "bottom": null,
            "display": null,
            "flex": null,
            "flex_flow": null,
            "grid_area": null,
            "grid_auto_columns": null,
            "grid_auto_flow": null,
            "grid_auto_rows": null,
            "grid_column": null,
            "grid_gap": null,
            "grid_row": null,
            "grid_template_areas": null,
            "grid_template_columns": null,
            "grid_template_rows": null,
            "height": null,
            "justify_content": null,
            "justify_items": null,
            "left": null,
            "margin": null,
            "max_height": null,
            "max_width": null,
            "min_height": null,
            "min_width": null,
            "object_fit": null,
            "object_position": null,
            "order": null,
            "overflow": null,
            "overflow_x": null,
            "overflow_y": null,
            "padding": null,
            "right": null,
            "top": null,
            "visibility": null,
            "width": null
          }
        },
        "0b42cb53c2fd4e568993503ec435695f": {
          "model_module": "@jupyter-widgets/controls",
          "model_name": "DescriptionStyleModel",
          "model_module_version": "1.5.0",
          "state": {
            "_model_module": "@jupyter-widgets/controls",
            "_model_module_version": "1.5.0",
            "_model_name": "DescriptionStyleModel",
            "_view_count": null,
            "_view_module": "@jupyter-widgets/base",
            "_view_module_version": "1.2.0",
            "_view_name": "StyleView",
            "description_width": ""
          }
        }
      }
    }
  },
  "nbformat": 4,
  "nbformat_minor": 0
}