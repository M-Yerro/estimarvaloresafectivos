{
  "cells": [
    {
      "cell_type": "markdown",
      "metadata": {
        "id": "view-in-github",
        "colab_type": "text"
      },
      "source": [
        "<a href=\"https://colab.research.google.com/github/M-Yerro/estimarvaloresafectivos/blob/main/AACC2025_estimarvaloresafectivos.ipynb\" target=\"_parent\"><img src=\"https://colab.research.google.com/assets/colab-badge.svg\" alt=\"Open In Colab\"/></a>"
      ]
    },
    {
      "cell_type": "markdown",
      "source": [
        "Para usar: Ejecutar todas las celdas. La preparación puede demorar unos 20 minutos. Una vez preparado el entorno, la estimación es casi inmediata.\n",
        "\n",
        "Se recomienda ejecutar en Google Colab.\n",
        "\n",
        "Luego, para obtener los valores estimativos de una palabra, utilizar el cuadro encontrado al final de este notebook."
      ],
      "metadata": {
        "id": "ZeNCVV8MPGoR"
      }
    },
    {
      "cell_type": "markdown",
      "source": [
        "# Preparación"
      ],
      "metadata": {
        "id": "NqYF_A5Rbplf"
      }
    },
    {
      "cell_type": "code",
      "execution_count": 1,
      "metadata": {
        "id": "4CIEqnClqL2p",
        "colab": {
          "base_uri": "https://localhost:8080/"
        },
        "outputId": "5a2175af-f358-4162-bebf-fdd18fff8455"
      },
      "outputs": [
        {
          "output_type": "stream",
          "name": "stdout",
          "text": [
            "Requirement already satisfied: fasttext in /usr/local/lib/python3.12/dist-packages (0.9.3)\n",
            "Requirement already satisfied: pybind11>=2.2 in /usr/local/lib/python3.12/dist-packages (from fasttext) (3.0.1)\n",
            "Requirement already satisfied: setuptools>=0.7.0 in /usr/local/lib/python3.12/dist-packages (from fasttext) (75.2.0)\n",
            "Requirement already satisfied: numpy in /usr/local/lib/python3.12/dist-packages (from fasttext) (2.0.2)\n"
          ]
        }
      ],
      "source": [
        "#  Importamos las librerías necesarias.\n",
        "!pip install fasttext\n",
        "import fasttext.util\n",
        "import pandas as pd\n",
        "import numpy as np\n",
        "import tensorflow as tf\n",
        "import keras\n",
        "import ipywidgets as widgets\n",
        "from IPython.display import display, clear_output"
      ]
    },
    {
      "cell_type": "code",
      "execution_count": 2,
      "metadata": {
        "id": "DvjfYFBF8sR7"
      },
      "outputs": [],
      "source": [
        "#  Descargamos el modelo de lenguaje utilizado\n",
        "#\n",
        "#  Puede tardar hasta 20 minutos :(\n",
        "#\n",
        "fasttext.util.download_model('es', if_exists='ignore')  # Español\n",
        "ft = fasttext.load_model('cc.es.300.bin')"
      ]
    },
    {
      "cell_type": "code",
      "source": [
        "#  Descargamos los estimadores ya entrenados\n",
        "\n",
        "valencia_url = \"https://github.com/M-Yerro/estimarvaloresafectivos/raw/refs/heads/main/modelovalencia.h5\"\n",
        "arousal_url = \"https://github.com/M-Yerro/estimarvaloresafectivos/raw/refs/heads/main/modeloarousal.h5\"\n",
        "\n",
        "valencia_path = tf.keras.utils.get_file(\"modelovalencia.h5\", valencia_url)\n",
        "arousal_path = tf.keras.utils.get_file(\"modeloarousal.h5\", arousal_url)\n",
        "\n",
        "valencia = keras.models.load_model(valencia_path)\n",
        "arousal = keras.models.load_model(arousal_path)"
      ],
      "metadata": {
        "colab": {
          "base_uri": "https://localhost:8080/"
        },
        "id": "nMzkuVJJMWFw",
        "outputId": "11bd7970-d316-40f8-b5e1-0953b23b742d"
      },
      "execution_count": 3,
      "outputs": [
        {
          "output_type": "stream",
          "name": "stderr",
          "text": [
            "WARNING:absl:Compiled the loaded model, but the compiled metrics have yet to be built. `model.compile_metrics` will be empty until you train or evaluate the model.\n",
            "WARNING:absl:Compiled the loaded model, but the compiled metrics have yet to be built. `model.compile_metrics` will be empty until you train or evaluate the model.\n"
          ]
        }
      ]
    },
    {
      "cell_type": "code",
      "source": [
        "def estimar(word, model_valence=valencia, model_arousal=arousal):\n",
        "  Valencia = valencia.predict(ft.get_word_vector(word).reshape(1, -1))\n",
        "  Activacion = arousal.predict(ft.get_word_vector(word).reshape(1, -1))\n",
        "  print(f\"Palabra: {word}\")\n",
        "  print(f\"Valencia: {Valencia[0][0]}\")\n",
        "  print(f\"Activacion: {Activacion[0][0]}\")"
      ],
      "metadata": {
        "id": "2MrbMQRcNN4B"
      },
      "execution_count": 4,
      "outputs": []
    },
    {
      "cell_type": "code",
      "source": [
        "text_input = widgets.Text(\n",
        "    value='',\n",
        "    placeholder='Ingrese una palabra',\n",
        "    description='Palabra:',\n",
        "    disabled=False\n",
        ")\n",
        "\n",
        "def handle_submit(sender):\n",
        "    with output_area:\n",
        "        clear_output()\n",
        "        estimar(text_input.value)\n",
        "\n",
        "text_input.on_submit(handle_submit)\n",
        "\n",
        "output_area = widgets.Output()\n"
      ],
      "metadata": {
        "id": "bFc0PLjlboMg"
      },
      "execution_count": 5,
      "outputs": []
    },
    {
      "cell_type": "markdown",
      "source": [
        "# Estimar valores afectivos"
      ],
      "metadata": {
        "id": "AeE4_VwkbyEI"
      }
    },
    {
      "cell_type": "code",
      "source": [
        "display(text_input, output_area)"
      ],
      "metadata": {
        "id": "VfxwXSahavCg"
      },
      "execution_count": null,
      "outputs": []
    }
  ],
  "metadata": {
    "colab": {
      "provenance": [],
      "authorship_tag": "ABX9TyOLDaLWNoZeg9XbzzvOJQRR",
      "include_colab_link": true
    },
    "kernelspec": {
      "display_name": "Python 3",
      "name": "python3"
    },
    "language_info": {
      "name": "python"
    }
  },
  "nbformat": 4,
  "nbformat_minor": 0
}