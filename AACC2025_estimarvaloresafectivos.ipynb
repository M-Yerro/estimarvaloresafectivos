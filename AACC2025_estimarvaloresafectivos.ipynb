{
  "cells": [
    {
      "cell_type": "markdown",
      "metadata": {
        "id": "view-in-github",
        "colab_type": "text"
      },
      "source": [
        "<a href=\"https://colab.research.google.com/github/M-Yerro/estimarvaloresafectivos/blob/main/AACC2025_estimarvaloresafectivos.ipynb\" target=\"_parent\"><img src=\"https://colab.research.google.com/assets/colab-badge.svg\" alt=\"Open In Colab\"/></a>"
      ]
    },
    {
      "cell_type": "markdown",
      "source": [
        "Para usar: Ejecutar todas las celdas. La preparación puede demorar unos 20 minutos. Una vez preparado el entorno, la estimación es casi inmediata.\n",
        "\n",
        "Se recomienda ejecutar en Google Colab.\n",
        "\n",
        "Luego, para obtener los valores estimativos de una palabra, utilizar la última celda.\n",
        "\n",
        "predecir(\"XXXX\")\n",
        "\n",
        "donde \"XXXX\" es la palabra a estimar"
      ],
      "metadata": {
        "id": "ZeNCVV8MPGoR"
      }
    },
    {
      "cell_type": "markdown",
      "source": [
        "# Preparación de estimador"
      ],
      "metadata": {
        "id": "Jv8_Bl8HXqLg"
      }
    },
    {
      "cell_type": "code",
      "execution_count": null,
      "metadata": {
        "id": "4CIEqnClqL2p",
        "colab": {
          "base_uri": "https://localhost:8080/"
        },
        "outputId": "13b04e1e-7abf-44a8-ccc4-0a80cfc54a6f"
      },
      "outputs": [
        {
          "output_type": "stream",
          "name": "stdout",
          "text": [
            "Requirement already satisfied: fasttext in /usr/local/lib/python3.12/dist-packages (0.9.3)\n",
            "Requirement already satisfied: pybind11>=2.2 in /usr/local/lib/python3.12/dist-packages (from fasttext) (3.0.1)\n",
            "Requirement already satisfied: setuptools>=0.7.0 in /usr/local/lib/python3.12/dist-packages (from fasttext) (75.2.0)\n",
            "Requirement already satisfied: numpy in /usr/local/lib/python3.12/dist-packages (from fasttext) (2.0.2)\n"
          ]
        }
      ],
      "source": [
        "#  Importamos las librerías necesarias.\n",
        "!pip install fasttext\n",
        "import fasttext.util\n",
        "import pandas as pd\n",
        "import numpy as np\n",
        "import tensorflow as tf\n",
        "import keras"
      ]
    },
    {
      "cell_type": "code",
      "execution_count": null,
      "metadata": {
        "id": "DvjfYFBF8sR7"
      },
      "outputs": [],
      "source": [
        "#  Descargamos el modelo de lenguaje utilizado\n",
        "#\n",
        "#  Puede tardar hasta 20 minutos :(\n",
        "#\n",
        "fasttext.util.download_model('es', if_exists='ignore')  # Español\n",
        "ft = fasttext.load_model('cc.es.300.bin')"
      ]
    },
    {
      "cell_type": "code",
      "source": [
        "#  Descargamos los estimadores ya entrenados\n",
        "\n",
        "valencia_url = \"https://github.com/M-Yerro/estimarvaloresafectivos/raw/refs/heads/main/modelovalencia.h5\"\n",
        "arousal_url = \"https://github.com/M-Yerro/estimarvaloresafectivos/raw/refs/heads/main/modeloarousal.h5\"\n",
        "\n",
        "valencia_path = tf.keras.utils.get_file(\"modelovalencia.h5\", valencia_url)\n",
        "arousal_path = tf.keras.utils.get_file(\"modeloarousal.h5\", arousal_url)\n",
        "\n",
        "valencia = keras.models.load_model(valencia_path)\n",
        "arousal = keras.models.load_model(arousal_path)"
      ],
      "metadata": {
        "colab": {
          "base_uri": "https://localhost:8080/"
        },
        "id": "nMzkuVJJMWFw",
        "outputId": "1f3ebc96-ddbd-4fd4-cd21-54fbaade834c"
      },
      "execution_count": null,
      "outputs": [
        {
          "output_type": "stream",
          "name": "stderr",
          "text": [
            "WARNING:absl:Compiled the loaded model, but the compiled metrics have yet to be built. `model.compile_metrics` will be empty until you train or evaluate the model.\n",
            "WARNING:absl:Compiled the loaded model, but the compiled metrics have yet to be built. `model.compile_metrics` will be empty until you train or evaluate the model.\n"
          ]
        }
      ]
    },
    {
      "cell_type": "code",
      "source": [
        "def estimar(word, model_valence=valencia, model_arousal=arousal):\n",
        "  Valencia = valencia.predict(ft.get_word_vector(word).reshape(1, -1))\n",
        "  Activacion = arousal.predict(ft.get_word_vector(word).reshape(1, -1))\n",
        "  print(f\"Palabra: {word}\")\n",
        "  print(f\"Valencia: {Valencia[0][0]}\")\n",
        "  print(f\"Activacion: {Activacion[0][0]}\")"
      ],
      "metadata": {
        "id": "2MrbMQRcNN4B"
      },
      "execution_count": null,
      "outputs": []
    },
    {
      "cell_type": "code",
      "source": [
        "estimar(\"ganar\")"
      ],
      "metadata": {
        "colab": {
          "base_uri": "https://localhost:8080/"
        },
        "id": "Sn_5Gt6-NfOA",
        "outputId": "7be045fc-8688-41e2-dbd8-337cda538ec7"
      },
      "execution_count": null,
      "outputs": [
        {
          "output_type": "stream",
          "name": "stdout",
          "text": [
            "\u001b[1m1/1\u001b[0m \u001b[32m━━━━━━━━━━━━━━━━━━━━\u001b[0m\u001b[37m\u001b[0m \u001b[1m0s\u001b[0m 199ms/step\n",
            "\u001b[1m1/1\u001b[0m \u001b[32m━━━━━━━━━━━━━━━━━━━━\u001b[0m\u001b[37m\u001b[0m \u001b[1m0s\u001b[0m 72ms/step\n",
            "Palabra: ganar\n",
            "Valencia: 7.535353660583496\n",
            "Activacion: 7.396597385406494\n"
          ]
        }
      ]
    },
    {
      "cell_type": "markdown",
      "source": [
        "# Para estimar:\n",
        "\n",
        "Cambie la palabra dentro de:\n",
        "\n",
        "estimar(\"palabra\")\n",
        "\n",
        "Y ejecute la celda"
      ],
      "metadata": {
        "id": "ZFogorMZXxAo"
      }
    },
    {
      "cell_type": "code",
      "source": [
        "estimar(\"ganar\")"
      ],
      "metadata": {
        "id": "zt-BERLWXycX"
      },
      "execution_count": null,
      "outputs": []
    }
  ],
  "metadata": {
    "colab": {
      "provenance": [],
      "include_colab_link": true
    },
    "kernelspec": {
      "display_name": "Python 3",
      "name": "python3"
    },
    "language_info": {
      "name": "python"
    }
  },
  "nbformat": 4,
  "nbformat_minor": 0
}